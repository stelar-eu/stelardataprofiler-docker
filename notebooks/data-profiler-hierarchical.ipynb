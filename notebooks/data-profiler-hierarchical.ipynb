{
 "cells": [
  {
   "cell_type": "code",
   "execution_count": null,
   "id": "437e821b",
   "metadata": {},
   "outputs": [],
   "source": [
    "from stelar.client import Client, TaskSpec\n",
    "\n",
    "c = Client(base_url=\"https://klms.stelar.gr\", username=\"***\", password=\"***\")"
   ]
  },
  {
   "cell_type": "code",
   "execution_count": 2,
   "id": "475513cc",
   "metadata": {},
   "outputs": [],
   "source": [
    "profile_example_dataset = c.datasets['stelardataprofiler-datasets-examples']"
   ]
  },
  {
   "cell_type": "markdown",
   "id": "71c53e54",
   "metadata": {},
   "source": [
    "## Hierarchical Resources (JSON)"
   ]
  },
  {
   "cell_type": "markdown",
   "id": "5d13cfe2",
   "metadata": {},
   "source": [
    "### Profile"
   ]
  },
  {
   "cell_type": "code",
   "execution_count": null,
   "id": "4198f2bc",
   "metadata": {},
   "outputs": [],
   "source": [
    "hierarchical_t = TaskSpec(tool=\"data-profiler\", name=\"Profile for JSON - Hierarchical\")\n",
    "\n",
    "hierarchical_t.i(data=\"2b92c0db-fa90-4679-b086-214bc6a5974f\")\n",
    "\n",
    "\n",
    "hierarchical_t.d(alias=\"d0\", dset=profile_example_dataset)\n",
    "\n",
    "\n",
    "hierarchical_t.o(\n",
    "    profile={\n",
    "        \"url\": \"s3://test-bucket/stelardataprofiler-experiments/hierarchical_example_profile.json\",\n",
    "        \"resource\": {\n",
    "            \"name\": \"Profile for json_example.json\",\n",
    "            \"relation\": \"profile\",\n",
    "            \"format\": \"json\",\n",
    "        },\n",
    "        \"dataset\":\"d0\",\n",
    "    }\n",
    ")\n",
    "\n",
    "\n",
    "proc = c.processes[\"d66764f1-c310-4751-9aa3-816703d5d316\"]\n",
    "\n",
    "hierarchical_t = proc.run(hierarchical_t)"
   ]
  }
 ],
 "metadata": {
  "kernelspec": {
   "display_name": "python3.12_venv",
   "language": "python",
   "name": "python3"
  },
  "language_info": {
   "codemirror_mode": {
    "name": "ipython",
    "version": 3
   },
   "file_extension": ".py",
   "mimetype": "text/x-python",
   "name": "python",
   "nbconvert_exporter": "python",
   "pygments_lexer": "ipython3",
   "version": "3.12.3"
  }
 },
 "nbformat": 4,
 "nbformat_minor": 5
}
