{
 "cells": [
  {
   "cell_type": "code",
   "execution_count": null,
   "id": "437e821b",
   "metadata": {},
   "outputs": [],
   "source": [
    "from stelar.client import Client, TaskSpec\n",
    "\n",
    "c = Client(base_url=\"https://klms.stelar.gr\", username=\"***\", password=\"***\")"
   ]
  },
  {
   "cell_type": "code",
   "execution_count": 2,
   "id": "475513cc",
   "metadata": {},
   "outputs": [],
   "source": [
    "profile_example_dataset = c.datasets['stelardataprofiler-datasets-examples']"
   ]
  },
  {
   "cell_type": "markdown",
   "id": "71c53e54",
   "metadata": {},
   "source": [
    "## Text Resources (TXT)"
   ]
  },
  {
   "cell_type": "markdown",
   "id": "5d13cfe2",
   "metadata": {},
   "source": [
    "### Profile"
   ]
  },
  {
   "cell_type": "code",
   "execution_count": null,
   "id": "4198f2bc",
   "metadata": {},
   "outputs": [],
   "source": [
    "textual_t = TaskSpec(tool=\"data-profiler\", name=\"Profile for Texts\")\n",
    "\n",
    "textual_t.i(data=[\"bc9f1f1a-0b3b-4a3a-ba4a-51581a8ff170\", \"aa1abd28-be6b-43c9-bc45-35c18de48afa\",\n",
    "                 \"a50c140f-5c0e-4a06-849c-30e8ce5161d7\", \"c633451d-8a2b-4bb1-b34b-84a92fc183a0\"])\n",
    "\n",
    "\n",
    "textual_t.d(alias=\"d0\", dset=profile_example_dataset)\n",
    "\n",
    "textual_t.o(\n",
    "    profile={\n",
    "        \"url\": \"s3://test-bucket/stelardataprofiler-experiments/textual_profile.json\",\n",
    "        \"resource\": {\n",
    "            \"name\": \"Profile for text_example1.txt, text_example2.txt, text_example3, text_example4.txt.txt\",\n",
    "            \"relation\": \"profile\",\n",
    "            \"format\": \"json\",\n",
    "        },\n",
    "        \"dataset\":\"d0\",\n",
    "    }\n",
    ")\n",
    "\n",
    "\n",
    "proc = c.processes[\"d66764f1-c310-4751-9aa3-816703d5d316\"]\n",
    "\n",
    "textual_t = proc.run(textual_t)"
   ]
  }
 ],
 "metadata": {
  "kernelspec": {
   "display_name": "python3.12_venv",
   "language": "python",
   "name": "python3"
  },
  "language_info": {
   "codemirror_mode": {
    "name": "ipython",
    "version": 3
   },
   "file_extension": ".py",
   "mimetype": "text/x-python",
   "name": "python",
   "nbconvert_exporter": "python",
   "pygments_lexer": "ipython3",
   "version": "3.12.3"
  }
 },
 "nbformat": 4,
 "nbformat_minor": 5
}
