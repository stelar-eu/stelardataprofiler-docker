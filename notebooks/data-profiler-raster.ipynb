{
 "cells": [
  {
   "cell_type": "code",
   "execution_count": null,
   "id": "437e821b",
   "metadata": {},
   "outputs": [],
   "source": [
    "from stelar.client import Client, TaskSpec\n",
    "\n",
    "c = Client(base_url=\"https://klms.stelar.gr\", username=\"***\", password=\"***\")"
   ]
  },
  {
   "cell_type": "code",
   "execution_count": 2,
   "id": "475513cc",
   "metadata": {},
   "outputs": [],
   "source": [
    "profile_example_dataset = c.datasets['stelardataprofiler-datasets-examples']"
   ]
  },
  {
   "cell_type": "markdown",
   "id": "71c53e54",
   "metadata": {},
   "source": [
    "## Raster Resources (TIF, TIFF, IMG, VRT, NC, GRD, ASC, JP2, HDF, HDR, BIL, PNG)"
   ]
  },
  {
   "cell_type": "markdown",
   "id": "5d13cfe2",
   "metadata": {},
   "source": [
    "### Profile"
   ]
  },
  {
   "cell_type": "code",
   "execution_count": null,
   "id": "4198f2bc",
   "metadata": {},
   "outputs": [],
   "source": [
    "raster_t = TaskSpec(tool=\"data-profiler\", name=\"Profile for Raster\")\n",
    "\n",
    "raster_t.i(data=[\"1962a54e-89a6-4862-8705-aabb9e8417b6\", \"b5670be3-5a1b-48fc-bb97-8c72cfa53e4f\"])\n",
    "\n",
    "\n",
    "raster_t.d(alias=\"d0\", dset=profile_example_dataset)\n",
    "\n",
    "raster_t.o(\n",
    "    profile={\n",
    "        \"url\": \"s3://test-bucket/stelardataprofiler-experiments/raster_profile_new.json\",\n",
    "        \"resource\": {\n",
    "            \"name\": \"Profile for image_example.png and image_example1.png\",\n",
    "            \"relation\": \"profile\",\n",
    "            \"format\": \"json\",\n",
    "        },\n",
    "        \"dataset\":\"d0\",\n",
    "    }\n",
    ")\n",
    "\n",
    "\n",
    "proc = c.processes[\"d66764f1-c310-4751-9aa3-816703d5d316\"]\n",
    "\n",
    "raster_t = proc.run(raster_t)"
   ]
  }
 ],
 "metadata": {
  "kernelspec": {
   "display_name": "python3.12_venv",
   "language": "python",
   "name": "python3"
  },
  "language_info": {
   "codemirror_mode": {
    "name": "ipython",
    "version": 3
   },
   "file_extension": ".py",
   "mimetype": "text/x-python",
   "name": "python",
   "nbconvert_exporter": "python",
   "pygments_lexer": "ipython3",
   "version": "3.12.3"
  }
 },
 "nbformat": 4,
 "nbformat_minor": 5
}
