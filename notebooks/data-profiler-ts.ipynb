{
 "cells": [
  {
   "cell_type": "code",
   "execution_count": null,
   "id": "437e821b",
   "metadata": {},
   "outputs": [],
   "source": [
    "from stelar.client import Client, TaskSpec\n",
    "\n",
    "c = Client(base_url=\"https://klms.stelar.gr\", username=\"***\", password=\"***\")"
   ]
  },
  {
   "cell_type": "code",
   "execution_count": 3,
   "id": "475513cc",
   "metadata": {},
   "outputs": [],
   "source": [
    "profile_example_dataset = c.datasets['stelardataprofiler-datasets-examples']"
   ]
  },
  {
   "cell_type": "markdown",
   "id": "71c53e54",
   "metadata": {},
   "source": [
    "## Time Series Resources (CSV, XLS, XLSX)"
   ]
  },
  {
   "cell_type": "markdown",
   "id": "15579f89",
   "metadata": {},
   "source": [
    "#### Type Detection"
   ]
  },
  {
   "cell_type": "code",
   "execution_count": null,
   "id": "e862c6e1",
   "metadata": {},
   "outputs": [],
   "source": [
    "timeseries_t = TaskSpec(tool=\"data-profiler\", name=\"Type Detection for Time Series\")\n",
    "\n",
    "timeseries_t.i(data=\"d87dd1c2-4dd4-4fec-b19a-6918d194e9f4\")\n",
    "\n",
    "\n",
    "timeseries_t.d(alias=\"d0\", dset=profile_example_dataset)\n",
    "timeseries_t.p(\n",
    "    type_detection_mode=True,\n",
    "    header=0,\n",
    "    sep=',',\n",
    "    ts_mode=True,\n",
    "    time_column=\"date\",\n",
    "    light_mode = False,\n",
    "    num_cat_perc_threshold=0.5,\n",
    "    max_freq_distr=10\n",
    ")\n",
    "\n",
    "timeseries_t.o(\n",
    "    types={\n",
    "        \"url\": \"s3://test-bucket/stelardataprofiler-experiments/many_timeseries_example.json\",\n",
    "        \"resource\": {\n",
    "            \"name\": \"Type Detection for many_timeseries_example.csv\",\n",
    "            \"relation\": \"profile_type_detection\",\n",
    "            \"format\": \"json\",\n",
    "        },\n",
    "        \"dataset\":\"d0\",\n",
    "    }\n",
    ")\n",
    "\n",
    "\n",
    "proc = c.processes[\"d66764f1-c310-4751-9aa3-816703d5d316\"]\n",
    "\n",
    "timeseries_t = proc.run(timeseries_t)"
   ]
  },
  {
   "cell_type": "markdown",
   "id": "acd0cbb6",
   "metadata": {},
   "source": [
    "#### Profile with type detection file"
   ]
  },
  {
   "cell_type": "code",
   "execution_count": 6,
   "id": "830b2dd1",
   "metadata": {},
   "outputs": [],
   "source": [
    "timeseries_t = TaskSpec(tool=\"data-profiler\", name=\"Profile with type detection for Time Series\")\n",
    "\n",
    "timeseries_t.i(data=\"d87dd1c2-4dd4-4fec-b19a-6918d194e9f4\", type_detection_file=\"6236a8e6-8e87-4382-bcf3-330017fc7ec3\")\n",
    "\n",
    "\n",
    "timeseries_t.d(alias=\"d0\", dset=profile_example_dataset)\n",
    "timeseries_t.p(\n",
    "    type_detection_mode=False,\n",
    "    header=0,\n",
    "    sep=',',\n",
    "    ts_mode=True,\n",
    "    time_column=\"date\",\n",
    "    light_mode = False,\n",
    "    num_cat_perc_threshold=0.5,\n",
    "    max_freq_distr=10\n",
    ")\n",
    "\n",
    "timeseries_t.o(\n",
    "    profile={\n",
    "        \"url\": \"s3://test-bucket/stelardataprofiler-experiments/many_timeseries_example_custom.json\",\n",
    "        \"resource\": {\n",
    "            \"name\": \"Profile with type detection for many_timeseries_example.csv\",\n",
    "            \"relation\": \"profile\",\n",
    "            \"format\": \"json\",\n",
    "        },\n",
    "        \"dataset\":\"d0\",\n",
    "    }\n",
    ")\n",
    "\n",
    "\n",
    "proc = c.processes[\"d66764f1-c310-4751-9aa3-816703d5d316\"]\n",
    "\n",
    "timeseries_t = proc.run(timeseries_t)"
   ]
  },
  {
   "cell_type": "markdown",
   "id": "f086d5cb",
   "metadata": {},
   "source": [
    "#### Profile"
   ]
  },
  {
   "cell_type": "code",
   "execution_count": 7,
   "id": "4198f2bc",
   "metadata": {},
   "outputs": [],
   "source": [
    "timeseries_t = TaskSpec(tool=\"data-profiler\", name=\"Profile for Time Series\")\n",
    "\n",
    "timeseries_t.i(data=\"d87dd1c2-4dd4-4fec-b19a-6918d194e9f4\")\n",
    "\n",
    "\n",
    "timeseries_t.d(alias=\"d0\", dset=profile_example_dataset)\n",
    "timeseries_t.p(\n",
    "    type_detection_mode=False,\n",
    "    header=0,\n",
    "    sep=',',\n",
    "    ts_mode=True,\n",
    "    time_column=\"date\",\n",
    "    light_mode = False,\n",
    "    num_cat_perc_threshold=0.5,\n",
    "    max_freq_distr=10\n",
    ")\n",
    "\n",
    "timeseries_t.o(\n",
    "    profile={\n",
    "        \"url\": \"s3://test-bucket/stelardataprofiler-experiments/many_timeseries_example_profile.json\",\n",
    "        \"resource\": {\n",
    "            \"name\": \"Profile for many_timeseries_example.csv\",\n",
    "            \"relation\": \"profile\",\n",
    "            \"format\": \"json\",\n",
    "        },\n",
    "        \"dataset\":\"d0\",\n",
    "    }\n",
    ")\n",
    "\n",
    "\n",
    "proc = c.processes[\"d66764f1-c310-4751-9aa3-816703d5d316\"]\n",
    "\n",
    "timeseries_t = proc.run(timeseries_t)"
   ]
  }
 ],
 "metadata": {
  "kernelspec": {
   "display_name": "python3.12_venv",
   "language": "python",
   "name": "python3"
  },
  "language_info": {
   "codemirror_mode": {
    "name": "ipython",
    "version": 3
   },
   "file_extension": ".py",
   "mimetype": "text/x-python",
   "name": "python",
   "nbconvert_exporter": "python",
   "pygments_lexer": "ipython3",
   "version": "3.12.3"
  }
 },
 "nbformat": 4,
 "nbformat_minor": 5
}
