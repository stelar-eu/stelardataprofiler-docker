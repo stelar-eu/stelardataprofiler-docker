{
 "cells": [
  {
   "cell_type": "code",
   "execution_count": null,
   "id": "e96b2310",
   "metadata": {},
   "outputs": [],
   "source": [
    "from stelar.client import Client, TaskSpec\n",
    "\n",
    "c = Client(base_url=\"https://klms.stelar.gr\", username=\"***\", password=\"***\")"
   ]
  },
  {
   "cell_type": "code",
   "execution_count": 2,
   "id": "99e8177b",
   "metadata": {},
   "outputs": [],
   "source": [
    "profile_example_dataset = c.datasets['stelardataprofiler-datasets-examples']"
   ]
  },
  {
   "cell_type": "markdown",
   "id": "58630ae6",
   "metadata": {},
   "source": [
    "## Tabular Resources (CSV, XLS, XLSX, SHP)"
   ]
  },
  {
   "cell_type": "markdown",
   "id": "175814ff",
   "metadata": {},
   "source": [
    "### Example for CSV - No geometries"
   ]
  },
  {
   "cell_type": "code",
   "execution_count": null,
   "id": "463d3d2a",
   "metadata": {},
   "outputs": [],
   "source": [
    "tabular_t = TaskSpec(tool=\"data-profiler\", name=\"Tabular Profiling\")\n",
    "\n",
    "tabular_t.i(data=\"426fd66c-543b-4f3e-a8ff-b1ca94e6c6ac\")\n",
    "\n",
    "\n",
    "tabular_t.d(alias=\"d0\", dset=profile_example_dataset)\n",
    "tabular_t.p(\n",
    "    header=0,\n",
    "    sep='|',\n",
    "    #ts_mode=False\n",
    "    #time_column=DATE\n",
    ")\n",
    "\n",
    "tabular_t.o(\n",
    "    profile={\n",
    "        \"url\": \"s3://test-bucket/stelardataprofiler-experiments/tabular-profile.json\",\n",
    "        \"resource\": {\n",
    "            \"name\": \"Profile for tabular_example.csv\",\n",
    "            \"relation\": \"profile\",\n",
    "            \"format\": \"json\",\n",
    "        },\n",
    "        \"dataset\":\"d0\",\n",
    "    }\n",
    ")\n",
    "\n",
    "\n",
    "proc = c.processes[\"d66764f1-c310-4751-9aa3-816703d5d316\"]\n",
    "\n",
    "tabular_t = proc.run(tabular_t)"
   ]
  },
  {
   "cell_type": "markdown",
   "id": "eb0374ee",
   "metadata": {},
   "source": [
    "### Example CSV - Geometries (+ extra_geometry_columns)"
   ]
  },
  {
   "cell_type": "code",
   "execution_count": null,
   "id": "58b2900b",
   "metadata": {},
   "outputs": [],
   "source": [
    "tabular_t = TaskSpec(tool=\"data-profiler\", name=\"Tabular Profiling\")\n",
    "\n",
    "tabular_t.i(data=\"73c32f1d-16c4-4543-a0be-ee7b9d8ce8b8\")\n",
    "\n",
    "\n",
    "tabular_t.d(alias=\"d0\", dset=profile_example_dataset)\n",
    "tabular_t.p(\n",
    "    header=0,\n",
    "    sep='|',\n",
    "    extra_geometry_columns = [\n",
    "\t\t\t{\n",
    "\t\t\t\"longitude\": \"lon\",\n",
    "\t\t\t\"latitude\": \"lat\"\n",
    "\t\t\t}\n",
    "    ],\n",
    "\t\tlight_mode = False,\n",
    "\t\tcrs=\"EPSG:4326\",\n",
    "\t\tnum_cat_perc_threshold=0.5,\n",
    "\t\tmax_freq_distr=10,\n",
    "\t\teps_distance=1000\n",
    ")\n",
    "\n",
    "tabular_t.o(\n",
    "    profile={\n",
    "        \"url\": \"s3://test-bucket/stelardataprofiler-experiments/tabular-vector-profile.json\",\n",
    "        \"resource\": {\n",
    "            \"name\": \"Profile for tabular_vector_example.csv\",\n",
    "            \"relation\": \"profile\",\n",
    "            \"format\": \"json\",\n",
    "        },\n",
    "        \"dataset\":\"d0\",\n",
    "    }\n",
    ")\n",
    "\n",
    "\n",
    "proc = c.processes[\"d66764f1-c310-4751-9aa3-816703d5d316\"]\n",
    "\n",
    "tabular_t = proc.run(tabular_t)"
   ]
  },
  {
   "cell_type": "markdown",
   "id": "4d56b315",
   "metadata": {},
   "source": [
    "### Example SHP"
   ]
  },
  {
   "cell_type": "code",
   "execution_count": 3,
   "id": "7c97e2cb",
   "metadata": {},
   "outputs": [],
   "source": [
    "tabular_t = TaskSpec(tool=\"data-profiler\", name=\"Tabular Profiling - SHP\")\n",
    "\n",
    "tabular_t.i(data=[\"dc39a393-2ab9-4dfa-896f-db9c29087f16\", \"cb669577-f063-46e9-98b9-fdba00823b9c\", \"5b0434d3-b4fc-4388-8a7b-4ee45136c4eb\", \n",
    "                  \"fe3b7925-920f-411f-b448-79c081447ebe\",\"56656255-3d72-4eec-b310-3384175602d4\"])\n",
    "\n",
    "\n",
    "tabular_t.d(alias=\"d0\", dset=profile_example_dataset)\n",
    "tabular_t.p(\n",
    "    header=0,\n",
    "    sep='|',\n",
    "    extra_geometry_columns = [\n",
    "\t\t\t{\n",
    "\t\t\t\"longitude\": \"POINT_X\",\n",
    "\t\t\t\"latitude\": \"POINT_Y\"\n",
    "\t\t\t}\n",
    "    ],\n",
    "\t\tlight_mode = False,\n",
    "\t\tcrs=\"EPSG:4326\",\n",
    "\t\tnum_cat_perc_threshold=0.5,\n",
    "\t\tmax_freq_distr=10,\n",
    "\t\teps_distance=1000\n",
    ")\n",
    "\n",
    "tabular_t.o(\n",
    "    profile={\n",
    "        \"url\": \"s3://test-bucket/stelardataprofiler-experiments/vector_example.json\",\n",
    "        \"resource\": {\n",
    "            \"name\": \"Profile for vector_example.shp\",\n",
    "            \"relation\": \"profile\",\n",
    "            \"format\": \"json\",\n",
    "        },\n",
    "        \"dataset\":\"d0\",\n",
    "    }\n",
    ")\n",
    "\n",
    "\n",
    "proc = c.processes[\"d66764f1-c310-4751-9aa3-816703d5d316\"]\n",
    "\n",
    "tabular_t = proc.run(tabular_t)"
   ]
  },
  {
   "cell_type": "markdown",
   "id": "7e1af42b",
   "metadata": {},
   "source": [
    "### Example Type Detection + Custom Profile"
   ]
  },
  {
   "cell_type": "markdown",
   "id": "f43d993d",
   "metadata": {},
   "source": [
    "#### Type Detection"
   ]
  },
  {
   "cell_type": "code",
   "execution_count": 7,
   "id": "8c91a104",
   "metadata": {},
   "outputs": [],
   "source": [
    "tabular_t = TaskSpec(tool=\"data-profiler\", name=\"Type Detection\")\n",
    "\n",
    "tabular_t.i(data=[\"dc39a393-2ab9-4dfa-896f-db9c29087f16\", \"cb669577-f063-46e9-98b9-fdba00823b9c\", \"5b0434d3-b4fc-4388-8a7b-4ee45136c4eb\", \n",
    "                  \"fe3b7925-920f-411f-b448-79c081447ebe\",\"56656255-3d72-4eec-b310-3384175602d4\"])\n",
    "\n",
    "\n",
    "tabular_t.d(alias=\"d0\", dset=profile_example_dataset)\n",
    "tabular_t.p(\n",
    "    type_detection_mode=True,\n",
    "    header=0,\n",
    "    sep='|',\n",
    "    extra_geometry_columns = [\n",
    "\t\t\t{\n",
    "\t\t\t\"longitude\": \"POINT_X\",\n",
    "\t\t\t\"latitude\": \"POINT_Y\"\n",
    "\t\t\t}\n",
    "    ],\n",
    "\t\tlight_mode = False,\n",
    "\t\tcrs=\"EPSG:4326\",\n",
    "\t\tnum_cat_perc_threshold=0.5,\n",
    "\t\tmax_freq_distr=10,\n",
    "\t\teps_distance=1000\n",
    ")\n",
    "\n",
    "tabular_t.o(\n",
    "    types={\n",
    "        \"url\": \"s3://test-bucket/stelardataprofiler-experiments/vector_example_td.json\",\n",
    "        \"resource\": {\n",
    "            \"name\": \"Type Detection for vector_example.shp\",\n",
    "            \"relation\": \"profile_type_detection\",\n",
    "            \"format\": \"json\",\n",
    "        },\n",
    "        \"dataset\":\"d0\",\n",
    "    }\n",
    ")\n",
    "\n",
    "\n",
    "proc = c.processes[\"d66764f1-c310-4751-9aa3-816703d5d316\"]\n",
    "\n",
    "tabular_t = proc.run(tabular_t)"
   ]
  },
  {
   "cell_type": "markdown",
   "id": "0e616e5c",
   "metadata": {},
   "source": [
    "#### Custom Profile"
   ]
  },
  {
   "cell_type": "code",
   "execution_count": 8,
   "id": "df2c8fb4",
   "metadata": {},
   "outputs": [],
   "source": [
    "tabular_t = TaskSpec(tool=\"data-profiler\", name=\"Tabular Profiling - SHP with custom types\")\n",
    "\n",
    "tabular_t.i(data=[\"dc39a393-2ab9-4dfa-896f-db9c29087f16\", \"cb669577-f063-46e9-98b9-fdba00823b9c\", \"5b0434d3-b4fc-4388-8a7b-4ee45136c4eb\", \n",
    "                  \"fe3b7925-920f-411f-b448-79c081447ebe\",\"56656255-3d72-4eec-b310-3384175602d4\"],\n",
    "                  type_detection_file=\"3f72a69b-63b5-4ef1-9050-dd1705f689b2\")\n",
    "\n",
    "\n",
    "tabular_t.d(alias=\"d0\", dset=profile_example_dataset)\n",
    "tabular_t.p(\n",
    "    header=0,\n",
    "    sep='|',\n",
    "    extra_geometry_columns = [\n",
    "\t\t\t{\n",
    "\t\t\t\"longitude\": \"POINT_X\",\n",
    "\t\t\t\"latitude\": \"POINT_Y\"\n",
    "\t\t\t}\n",
    "    ],\n",
    "\t\tlight_mode = False,\n",
    "\t\tcrs=\"EPSG:4326\",\n",
    "\t\tnum_cat_perc_threshold=0.5,\n",
    "\t\tmax_freq_distr=10,\n",
    "\t\teps_distance=1000\n",
    ")\n",
    "\n",
    "tabular_t.o(\n",
    "    profile={\n",
    "        \"url\": \"s3://test-bucket/stelardataprofiler-experiments/vector_example_custom.json\",\n",
    "        \"resource\": {\n",
    "            \"name\": \"Profile with type detection for vector_example.shp\",\n",
    "            \"relation\": \"profile\",\n",
    "            \"format\": \"json\",\n",
    "        },\n",
    "        \"dataset\":\"d0\",\n",
    "    }\n",
    ")\n",
    "\n",
    "\n",
    "proc = c.processes[\"d66764f1-c310-4751-9aa3-816703d5d316\"]\n",
    "\n",
    "tabular_t = proc.run(tabular_t)"
   ]
  }
 ],
 "metadata": {
  "kernelspec": {
   "display_name": "python3.12_venv",
   "language": "python",
   "name": "python3"
  },
  "language_info": {
   "codemirror_mode": {
    "name": "ipython",
    "version": 3
   },
   "file_extension": ".py",
   "mimetype": "text/x-python",
   "name": "python",
   "nbconvert_exporter": "python",
   "pygments_lexer": "ipython3",
   "version": "3.12.3"
  }
 },
 "nbformat": 4,
 "nbformat_minor": 5
}
